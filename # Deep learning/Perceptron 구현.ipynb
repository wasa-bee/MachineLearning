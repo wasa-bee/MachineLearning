{
 "cells": [
  {
   "cell_type": "markdown",
   "metadata": {},
   "source": [
    "# Perceptron 구현 (OR 함수 구현)"
   ]
  },
  {
   "cell_type": "markdown",
   "metadata": {},
   "source": [
    "## import modules"
   ]
  },
  {
   "cell_type": "code",
   "execution_count": 1,
   "metadata": {},
   "outputs": [],
   "source": [
    "import tensorflow as tf\n",
    "import numpy as np"
   ]
  },
  {
   "cell_type": "markdown",
   "metadata": {},
   "source": [
    "## Perceptron 구현"
   ]
  },
  {
   "cell_type": "code",
   "execution_count": 4,
   "metadata": {},
   "outputs": [],
   "source": [
    "class Perceptron:\n",
    "    def __init__(self, w, b):\n",
    "        self.w = tf.Variable(w, dtype=tf.float32)\n",
    "        self.b = tf.Variable(b, dtype=tf.float32)\n",
    "        \n",
    "    def __call__(self, x):\n",
    "        return tf.sign(tf.reduce_sum(self.w * x) + self.b)"
   ]
  },
  {
   "cell_type": "markdown",
   "metadata": {},
   "source": [
    "# util"
   ]
  },
  {
   "cell_type": "code",
   "execution_count": 6,
   "metadata": {},
   "outputs": [],
   "source": [
    "def v(*args):\n",
    "    return np.array(args)"
   ]
  },
  {
   "cell_type": "markdown",
   "metadata": {},
   "source": [
    "## Perceptron 정의"
   ]
  },
  {
   "cell_type": "code",
   "execution_count": 7,
   "metadata": {},
   "outputs": [],
   "source": [
    "w = v(1,1)\n",
    "b = 0.5\n",
    "\n",
    "perceptron = Perceptron(w,b)\n"
   ]
  },
  {
   "cell_type": "markdown",
   "metadata": {},
   "source": [
    "## Perceptron 동작확인"
   ]
  },
  {
   "cell_type": "code",
   "execution_count": 8,
   "metadata": {},
   "outputs": [
    {
     "name": "stdout",
     "output_type": "stream",
     "text": [
      "1.0 1.0\n",
      "-1.0 1.0\n"
     ]
    }
   ],
   "source": [
    "p1 = perceptron(v(1,1)) # T, T\n",
    "p2 = perceptron(v(-1,1)) # F, T\n",
    "p3 = perceptron(v(-1,-1)) # F, F\n",
    "p4 = perceptron(v(1,-1)) # T, F\n",
    "\n",
    "print(p2.numpy(), p1.numpy())\n",
    "print(p3.numpy(), p4.numpy())"
   ]
  },
  {
   "cell_type": "markdown",
   "metadata": {},
   "source": [
    "# XOR 함수 구현"
   ]
  },
  {
   "cell_type": "code",
   "execution_count": 12,
   "metadata": {},
   "outputs": [
    {
     "name": "stdout",
     "output_type": "stream",
     "text": [
      "1.0 -1.0\n",
      "-1.0 1.0\n"
     ]
    }
   ],
   "source": [
    "p_nand = Perceptron(w=v(-1, -1), b=0.5)\n",
    "p_or = Perceptron(w=v(1, 1), b=0.5)\n",
    "p_and = Perceptron(w=v(1, 1), b=-0.5)\n",
    "\n",
    "def xor(x):\n",
    "    h1 = p_nand(x)\n",
    "    h2 = p_or(x)\n",
    "    return p_and(v(h1,h2))\n",
    "\n",
    "p1 = xor(v(1,1)) # T, T\n",
    "p2 = xor(v(-1,1)) # F, T\n",
    "p3 = xor(v(-1,-1)) # F, F\n",
    "p4 = xor(v(1,-1)) # T, F\n",
    "\n",
    "print(p2.numpy(), p1.numpy())\n",
    "print(p3.numpy(), p4.numpy())"
   ]
  },
  {
   "cell_type": "code",
   "execution_count": null,
   "metadata": {},
   "outputs": [],
   "source": []
  }
 ],
 "metadata": {
  "kernelspec": {
   "display_name": "Python 3",
   "language": "python",
   "name": "python3"
  },
  "language_info": {
   "codemirror_mode": {
    "name": "ipython",
    "version": 3
   },
   "file_extension": ".py",
   "mimetype": "text/x-python",
   "name": "python",
   "nbconvert_exporter": "python",
   "pygments_lexer": "ipython3",
   "version": "3.8.3"
  }
 },
 "nbformat": 4,
 "nbformat_minor": 4
}
