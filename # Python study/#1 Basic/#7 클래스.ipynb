{
 "cells": [
  {
   "cell_type": "code",
   "execution_count": 17,
   "metadata": {},
   "outputs": [],
   "source": [
    "def function(): # 함수\n",
    "    pass # 빈 구현 허용\n",
    "class Person: # 클래스\n",
    "    def __init__(self, name, age):\n",
    "        print(self, 'is generated')\n",
    "        self.name = name\n",
    "        self.age = age\n",
    "        \n",
    "    def selep(self):\n",
    "        print(self.name, '은 잠을 잡니다.')\n",
    "        "
   ]
  },
  {
   "cell_type": "code",
   "execution_count": 18,
   "metadata": {},
   "outputs": [
    {
     "name": "stdout",
     "output_type": "stream",
     "text": [
      "<__main__.Person object at 0x0000019A25E58820> is generated\n",
      "<__main__.Person object at 0x0000019A25E582E0> is generated\n",
      "kim 35\n"
     ]
    }
   ],
   "source": [
    "kim = Person('kim', 35)\n",
    "jung = Person('jung', 31)\n",
    "\n",
    "print(kim.name, kim.age)"
   ]
  },
  {
   "cell_type": "code",
   "execution_count": 19,
   "metadata": {},
   "outputs": [
    {
     "name": "stdout",
     "output_type": "stream",
     "text": [
      "kim 은 잠을 잡니다.\n"
     ]
    }
   ],
   "source": [
    "kim.selep()"
   ]
  },
  {
   "cell_type": "code",
   "execution_count": 28,
   "metadata": {},
   "outputs": [],
   "source": [
    "# 객체로 호출\n",
    "class instanceMethod:\n",
    "    def add (self,x,y):\n",
    "        return x+y\n",
    "    def multiply (self,x,y):\n",
    "        return x*y\n",
    "    \n",
    "a = instanceMethod()    "
   ]
  },
  {
   "cell_type": "code",
   "execution_count": 25,
   "metadata": {},
   "outputs": [
    {
     "data": {
      "text/plain": [
       "8"
      ]
     },
     "execution_count": 25,
     "metadata": {},
     "output_type": "execute_result"
    }
   ],
   "source": [
    "a.add(3,5)"
   ]
  },
  {
   "cell_type": "code",
   "execution_count": 29,
   "metadata": {},
   "outputs": [],
   "source": [
    "# 클래스로 호출\n",
    "class classMethod:\n",
    "    @staticmethod\n",
    "    def add (x,y):\n",
    "        return x+y\n",
    "    @staticmethod\n",
    "    def multiply (self,x,y):\n",
    "        return x*y"
   ]
  },
  {
   "cell_type": "code",
   "execution_count": 27,
   "metadata": {},
   "outputs": [
    {
     "data": {
      "text/plain": [
       "8"
      ]
     },
     "execution_count": 27,
     "metadata": {},
     "output_type": "execute_result"
    }
   ],
   "source": [
    "classMethod.add(3,5)"
   ]
  },
  {
   "cell_type": "markdown",
   "metadata": {},
   "source": [
    "# 상속"
   ]
  },
  {
   "cell_type": "code",
   "execution_count": 57,
   "metadata": {},
   "outputs": [
    {
     "name": "stdout",
     "output_type": "stream",
     "text": [
      "kim은 BBQ을(를) 먹습니다.\n",
      "kim은 6시간 동안 잡니다.\n",
      "kim은 10시간 동안 준비합니다.\n"
     ]
    }
   ],
   "source": [
    "class Person:\n",
    "    def __init__(self, name, age):\n",
    "        self.name = name\n",
    "        self.age = age\n",
    "    def eat(self, food):\n",
    "        print('{}은 {}을(를) 먹습니다.'.format(self.name, food))\n",
    "    def sleep(self, hour):\n",
    "        print('{}은 {}시간 동안 잡니다.'.format(self.name, hour))\n",
    "    def work(self, hour):\n",
    "        print('{}은 {}시간 동안 준비합니다.'.format(self.name, hour))\n",
    "class Student(Person):\n",
    "    def work(self, hour):\n",
    "        super().work(hour)\n",
    "        print('{}은 {}시간 동안 공부합니다.'.format(self.name, hour))\n",
    "    \n",
    "class Employee(Person):\n",
    "    def work(self, hour):\n",
    "        super().work(hour)\n",
    "        print('{}은 {}시간 동안 업무합니다.'.format(self.name, hour))\n",
    "\n",
    "\n",
    "kim = Person('kim', 35)\n",
    "kim.eat('BBQ')\n",
    "kim.sleep(6)\n",
    "kim.work(10)"
   ]
  },
  {
   "cell_type": "code",
   "execution_count": 58,
   "metadata": {},
   "outputs": [
    {
     "name": "stdout",
     "output_type": "stream",
     "text": [
      "jung은 3시간 동안 준비합니다.\n",
      "jung은 3시간 동안 공부합니다.\n"
     ]
    }
   ],
   "source": [
    "jung = Student('jung', 31)\n",
    "jung.work(3)"
   ]
  },
  {
   "cell_type": "code",
   "execution_count": 59,
   "metadata": {},
   "outputs": [
    {
     "name": "stdout",
     "output_type": "stream",
     "text": [
      "park은 8시간 동안 준비합니다.\n",
      "park은 8시간 동안 업무합니다.\n"
     ]
    }
   ],
   "source": [
    "park = Employee('park', 33)\n",
    "park.work(8)"
   ]
  },
  {
   "cell_type": "code",
   "execution_count": null,
   "metadata": {},
   "outputs": [],
   "source": []
  }
 ],
 "metadata": {
  "kernelspec": {
   "display_name": "Python 3",
   "language": "python",
   "name": "python3"
  },
  "language_info": {
   "codemirror_mode": {
    "name": "ipython",
    "version": 3
   },
   "file_extension": ".py",
   "mimetype": "text/x-python",
   "name": "python",
   "nbconvert_exporter": "python",
   "pygments_lexer": "ipython3",
   "version": "3.8.3"
  }
 },
 "nbformat": 4,
 "nbformat_minor": 4
}
