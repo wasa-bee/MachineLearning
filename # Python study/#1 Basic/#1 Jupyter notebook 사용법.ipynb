{
 "cells": [
  {
   "cell_type": "markdown",
   "metadata": {},
   "source": [
    "### 파란색은 명령모드"
   ]
  },
  {
   "cell_type": "markdown",
   "metadata": {},
   "source": [
    "### 명령모드\n",
    "h : 도움말\n",
    "\n",
    "a : 셀 위에 추가\n",
    "\n",
    "b : 셀 아래 추가\n",
    "\n",
    "dd : 셀 삭제\n"
   ]
  },
  {
   "cell_type": "markdown",
   "metadata": {},
   "source": [
    "### 실행\n",
    "shifth + enter : 실행하고 아래로 이동 -> 없으면 아래 생성\n",
    "\n",
    "ctrl + enter : 그냥 실행\n",
    "\n",
    "alt + enter : 실행 후 아래 추가"
   ]
  },
  {
   "cell_type": "markdown",
   "metadata": {},
   "source": [
    "# 마크다운\n",
    "## 마크다운\n",
    "### 마크다운"
   ]
  },
  {
   "cell_type": "markdown",
   "metadata": {},
   "source": [
    "**m : 마크다운**\n",
    "\n",
    "**y : 코드 모드**"
   ]
  },
  {
   "cell_type": "markdown",
   "metadata": {},
   "source": [
    "- python\n",
    " - numpy\n",
    " - pandas\n",
    "- java\n",
    "- javascirpt\n",
    "\n",
    "\n",
    "1. python\n",
    "2. java\n",
    "3. javascirpt\n",
    "\n",
    "> 인용구 입니다.\n",
    "\n",
    "\n",
    "#### 수학식도 표현가능 `$` 로 감싼다.\n",
    "$y=ax +b$\n",
    "\n",
    "\n",
    "#### 파이썬 코드로 인식\n",
    "```python\n",
    "a = 10\n",
    "print(a)\n",
    "```\n",
    "\n",
    "\n",
    "#### 링크\n",
    "[네이버](https://naver.com)\n"
   ]
  }
 ],
 "metadata": {
  "kernelspec": {
   "display_name": "Python 3",
   "language": "python",
   "name": "python3"
  },
  "language_info": {
   "codemirror_mode": {
    "name": "ipython",
    "version": 3
   },
   "file_extension": ".py",
   "mimetype": "text/x-python",
   "name": "python",
   "nbconvert_exporter": "python",
   "pygments_lexer": "ipython3",
   "version": "3.7.6"
  }
 },
 "nbformat": 4,
 "nbformat_minor": 4
}
